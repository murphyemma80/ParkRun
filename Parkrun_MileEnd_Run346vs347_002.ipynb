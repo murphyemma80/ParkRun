{
 "cells": [
  {
   "cell_type": "markdown",
   "metadata": {},
   "source": [
    "# ParkRun Analysis\n",
    "## Data relating to 5km ParkRun at MileEnd (22 and 29-Sep 2018)"
   ]
  },
  {
   "cell_type": "markdown",
   "metadata": {},
   "source": [
    "I participated in a 5km Park Run (at MileEnd in London) and I did a comparative analysis of my first run vs the previous week.  The data were available on a website, which I extracted to from the URL to CSV using an online converter\thttp://www.convertcsv.com/html-table-to-csv.htm\n",
    "I then imported this data into a PostgreSQL table, before reading into this Jupyter Notebook."
   ]
  },
  {
   "cell_type": "markdown",
   "metadata": {},
   "source": [
    "###### The analysis questions I set out to explore are:\n",
    "\n",
    "(I) I wanted to get more familiar with PostgreSQL, as well as learning more about data cleaning and plotting.\n",
    "\n",
    "(II) I based my analysis on comparing the datasets from the latest week (run 347, on 29 September) vs the prior week (run 346, on 22 September).  Then to make scatter plots to see if there was any relationship between a runner's age, and time to run the 5km course.  And finally to take a look at the r-squared values, to see if there was any major difference week-on-week. \n",
    "\n"
   ]
  },
  {
   "cell_type": "markdown",
   "metadata": {},
   "source": [
    "#### Import Libraries"
   ]
  },
  {
   "cell_type": "code",
   "execution_count": 44,
   "metadata": {},
   "outputs": [],
   "source": [
    "import psycopg2 as pg  #for this I first needed to run !pip install psycopg2\n",
    "import pandas.io.sql as psql\n",
    "import pandas as pd\n",
    "import numpy as np\n",
    "import datetime as dt\n",
    "import matplotlib.pyplot as plt\n",
    "import seaborn as sns"
   ]
  },
  {
   "cell_type": "markdown",
   "metadata": {},
   "source": [
    "#### Connect to PostgreSQL data"
   ]
  },
  {
   "cell_type": "code",
   "execution_count": 45,
   "metadata": {},
   "outputs": [
    {
     "data": {
      "text/html": [
       "<div>\n",
       "<style scoped>\n",
       "    .dataframe tbody tr th:only-of-type {\n",
       "        vertical-align: middle;\n",
       "    }\n",
       "\n",
       "    .dataframe tbody tr th {\n",
       "        vertical-align: top;\n",
       "    }\n",
       "\n",
       "    .dataframe thead th {\n",
       "        text-align: right;\n",
       "    }\n",
       "</style>\n",
       "<table border=\"1\" class=\"dataframe\">\n",
       "  <thead>\n",
       "    <tr style=\"text-align: right;\">\n",
       "      <th></th>\n",
       "      <th>run_nr</th>\n",
       "      <th>run_date</th>\n",
       "      <th>pos</th>\n",
       "      <th>parkrunner</th>\n",
       "      <th>run_time_raw</th>\n",
       "      <th>run_time</th>\n",
       "      <th>age_cat</th>\n",
       "      <th>gender</th>\n",
       "      <th>gender_pos</th>\n",
       "      <th>club</th>\n",
       "      <th>total_runs</th>\n",
       "    </tr>\n",
       "  </thead>\n",
       "  <tbody>\n",
       "    <tr>\n",
       "      <th>0</th>\n",
       "      <td>346</td>\n",
       "      <td>22/09/2018</td>\n",
       "      <td>136</td>\n",
       "      <td>Unknown</td>\n",
       "      <td>None</td>\n",
       "      <td>00:00:00</td>\n",
       "      <td>None</td>\n",
       "      <td>None</td>\n",
       "      <td>None</td>\n",
       "      <td>None</td>\n",
       "      <td>None</td>\n",
       "    </tr>\n",
       "    <tr>\n",
       "      <th>1</th>\n",
       "      <td>346</td>\n",
       "      <td>22/09/2018</td>\n",
       "      <td>295</td>\n",
       "      <td>Unknown</td>\n",
       "      <td>None</td>\n",
       "      <td>00:00:00</td>\n",
       "      <td>None</td>\n",
       "      <td>None</td>\n",
       "      <td>None</td>\n",
       "      <td>None</td>\n",
       "      <td>None</td>\n",
       "    </tr>\n",
       "    <tr>\n",
       "      <th>2</th>\n",
       "      <td>346</td>\n",
       "      <td>22/09/2018</td>\n",
       "      <td>278</td>\n",
       "      <td>Unknown</td>\n",
       "      <td>None</td>\n",
       "      <td>00:00:00</td>\n",
       "      <td>None</td>\n",
       "      <td>None</td>\n",
       "      <td>None</td>\n",
       "      <td>None</td>\n",
       "      <td>None</td>\n",
       "    </tr>\n",
       "    <tr>\n",
       "      <th>3</th>\n",
       "      <td>346</td>\n",
       "      <td>22/09/2018</td>\n",
       "      <td>277</td>\n",
       "      <td>Unknown</td>\n",
       "      <td>None</td>\n",
       "      <td>00:00:00</td>\n",
       "      <td>None</td>\n",
       "      <td>None</td>\n",
       "      <td>None</td>\n",
       "      <td>None</td>\n",
       "      <td>None</td>\n",
       "    </tr>\n",
       "    <tr>\n",
       "      <th>4</th>\n",
       "      <td>346</td>\n",
       "      <td>22/09/2018</td>\n",
       "      <td>274</td>\n",
       "      <td>Unknown</td>\n",
       "      <td>None</td>\n",
       "      <td>00:00:00</td>\n",
       "      <td>None</td>\n",
       "      <td>None</td>\n",
       "      <td>None</td>\n",
       "      <td>None</td>\n",
       "      <td>None</td>\n",
       "    </tr>\n",
       "  </tbody>\n",
       "</table>\n",
       "</div>"
      ],
      "text/plain": [
       "  run_nr    run_date  pos parkrunner run_time_raw  run_time age_cat gender gender_pos  club total_runs\n",
       "0    346  22/09/2018  136    Unknown         None  00:00:00    None   None       None  None       None\n",
       "1    346  22/09/2018  295    Unknown         None  00:00:00    None   None       None  None       None\n",
       "2    346  22/09/2018  278    Unknown         None  00:00:00    None   None       None  None       None\n",
       "3    346  22/09/2018  277    Unknown         None  00:00:00    None   None       None  None       None\n",
       "4    346  22/09/2018  274    Unknown         None  00:00:00    None   None       None  None       None"
      ]
     },
     "execution_count": 45,
     "metadata": {},
     "output_type": "execute_result"
    }
   ],
   "source": [
    "conn = pg.connect(database=\"emma\",user=\"postgres\")\n",
    "df = psql.read_sql('SELECT  run_nr, run_date, pos, parkrunner, run_time_raw, run_time,age_cat, gender, gender_pos, club, total_runs FROM projects.inp_002_03_parkrun ORDER BY run_nr, run_time', conn)\n",
    "df.head()"
   ]
  },
  {
   "cell_type": "markdown",
   "metadata": {},
   "source": [
    "###### NOTE on run_time:\n",
    "I encountered some issues initially in the formatting of the run time as it was exported to csv - times below 24 minutes were displaying in a different format than above. You can see the issue in the run_time_raw column- example below. It seems to be a standard CSV/Excel issue, and I worked around it in excel by dividing the time by 60 and reformatting as hh:mm:ss - and adding that as a new run_time column. "
   ]
  },
  {
   "cell_type": "code",
   "execution_count": 46,
   "metadata": {},
   "outputs": [
    {
     "data": {
      "text/html": [
       "<div>\n",
       "<style scoped>\n",
       "    .dataframe tbody tr th:only-of-type {\n",
       "        vertical-align: middle;\n",
       "    }\n",
       "\n",
       "    .dataframe tbody tr th {\n",
       "        vertical-align: top;\n",
       "    }\n",
       "\n",
       "    .dataframe thead th {\n",
       "        text-align: right;\n",
       "    }\n",
       "</style>\n",
       "<table border=\"1\" class=\"dataframe\">\n",
       "  <thead>\n",
       "    <tr style=\"text-align: right;\">\n",
       "      <th></th>\n",
       "      <th>parkrunner</th>\n",
       "      <th>run_time_raw</th>\n",
       "      <th>run_time</th>\n",
       "    </tr>\n",
       "  </thead>\n",
       "  <tbody>\n",
       "    <tr>\n",
       "      <th>148</th>\n",
       "      <td>Maria LONGVA</td>\n",
       "      <td>23:56</td>\n",
       "      <td>00:23:56</td>\n",
       "    </tr>\n",
       "    <tr>\n",
       "      <th>149</th>\n",
       "      <td>Matt CHOAT</td>\n",
       "      <td>23:57</td>\n",
       "      <td>00:23:57</td>\n",
       "    </tr>\n",
       "    <tr>\n",
       "      <th>150</th>\n",
       "      <td>Alejandro SALAS-SIERRA</td>\n",
       "      <td>23:59</td>\n",
       "      <td>00:23:59</td>\n",
       "    </tr>\n",
       "    <tr>\n",
       "      <th>151</th>\n",
       "      <td>Jo THOMPSON</td>\n",
       "      <td>24:00:00</td>\n",
       "      <td>00:24:00</td>\n",
       "    </tr>\n",
       "    <tr>\n",
       "      <th>152</th>\n",
       "      <td>James ROBERTSON</td>\n",
       "      <td>24:01:00</td>\n",
       "      <td>00:24:01</td>\n",
       "    </tr>\n",
       "  </tbody>\n",
       "</table>\n",
       "</div>"
      ],
      "text/plain": [
       "                 parkrunner run_time_raw  run_time\n",
       "148            Maria LONGVA        23:56  00:23:56\n",
       "149              Matt CHOAT        23:57  00:23:57\n",
       "150  Alejandro SALAS-SIERRA        23:59  00:23:59\n",
       "151             Jo THOMPSON     24:00:00  00:24:00\n",
       "152         James ROBERTSON     24:01:00  00:24:01"
      ]
     },
     "execution_count": 46,
     "metadata": {},
     "output_type": "execute_result"
    }
   ],
   "source": [
    "df3 = df[['parkrunner', 'run_time_raw', 'run_time']]\n",
    "df3.iloc[148:153, :]"
   ]
  },
  {
   "cell_type": "markdown",
   "metadata": {},
   "source": [
    "#### Clean Null Values from the dataset"
   ]
  },
  {
   "cell_type": "code",
   "execution_count": 47,
   "metadata": {},
   "outputs": [
    {
     "name": "stdout",
     "output_type": "stream",
     "text": [
      "# Null Rows 95\n",
      "\n",
      "Out of # Rows in total dataframe:  655\n"
     ]
    }
   ],
   "source": [
    "print(\"# Null Rows\",df['age_cat'].isna().sum()) #checking how many nulls in the column\n",
    "print(\"\\nOut of # Rows in total dataframe: \",len(df))"
   ]
  },
  {
   "cell_type": "code",
   "execution_count": 48,
   "metadata": {},
   "outputs": [
    {
     "name": "stdout",
     "output_type": "stream",
     "text": [
      "# Rows in cleaned dataframe:  560 \n",
      "\n",
      "              parkrunner run_time_raw  run_time  age_cat\n",
      "42  Adam Alexander YOUNG        16:34  00:16:34  VM35-39\n",
      "43         Sam MACNAMARA        17:00  00:17:00  SM30-34\n",
      "44            Dave FINCH        17:07  00:17:07  VM45-49\n",
      "45            Ben MOORES        17:32  00:17:32  SM30-34\n",
      "46          Neil KIRKHAM        17:42  00:17:42  SM30-34\n"
     ]
    }
   ],
   "source": [
    "df = df[pd.notnull(df['age_cat'])]   #redefines the dataframe as only cases where age_cat is not 'null'\n",
    "print(\"# Rows in cleaned dataframe: \",len(df),\"\\n\")\n",
    "pd.set_option('expand_frame_repr', False)  # Avoid text wrapping for Print\n",
    "print(df.iloc[:5, 3:7])  # selecting 5 rows, and a subset of the columns to check the output is ok"
   ]
  },
  {
   "cell_type": "code",
   "execution_count": 49,
   "metadata": {},
   "outputs": [
    {
     "data": {
      "text/html": [
       "<div>\n",
       "<style scoped>\n",
       "    .dataframe tbody tr th:only-of-type {\n",
       "        vertical-align: middle;\n",
       "    }\n",
       "\n",
       "    .dataframe tbody tr th {\n",
       "        vertical-align: top;\n",
       "    }\n",
       "\n",
       "    .dataframe thead th {\n",
       "        text-align: right;\n",
       "    }\n",
       "</style>\n",
       "<table border=\"1\" class=\"dataframe\">\n",
       "  <thead>\n",
       "    <tr style=\"text-align: right;\">\n",
       "      <th></th>\n",
       "      <th>run_nr</th>\n",
       "      <th>run_date</th>\n",
       "      <th>pos</th>\n",
       "      <th>parkrunner</th>\n",
       "      <th>run_time_raw</th>\n",
       "      <th>run_time</th>\n",
       "      <th>age_cat</th>\n",
       "      <th>gender</th>\n",
       "      <th>gender_pos</th>\n",
       "      <th>total_runs</th>\n",
       "      <th>club_yn</th>\n",
       "    </tr>\n",
       "  </thead>\n",
       "  <tbody>\n",
       "    <tr>\n",
       "      <th>42</th>\n",
       "      <td>346</td>\n",
       "      <td>22/09/2018</td>\n",
       "      <td>1</td>\n",
       "      <td>Adam Alexander YOUNG</td>\n",
       "      <td>16:34</td>\n",
       "      <td>00:16:34</td>\n",
       "      <td>VM35-39</td>\n",
       "      <td>M</td>\n",
       "      <td>1</td>\n",
       "      <td>123</td>\n",
       "      <td>Y</td>\n",
       "    </tr>\n",
       "    <tr>\n",
       "      <th>43</th>\n",
       "      <td>346</td>\n",
       "      <td>22/09/2018</td>\n",
       "      <td>2</td>\n",
       "      <td>Sam MACNAMARA</td>\n",
       "      <td>17:00</td>\n",
       "      <td>00:17:00</td>\n",
       "      <td>SM30-34</td>\n",
       "      <td>M</td>\n",
       "      <td>2</td>\n",
       "      <td>23</td>\n",
       "      <td>Y</td>\n",
       "    </tr>\n",
       "    <tr>\n",
       "      <th>44</th>\n",
       "      <td>346</td>\n",
       "      <td>22/09/2018</td>\n",
       "      <td>4</td>\n",
       "      <td>Dave FINCH</td>\n",
       "      <td>17:07</td>\n",
       "      <td>00:17:07</td>\n",
       "      <td>VM45-49</td>\n",
       "      <td>M</td>\n",
       "      <td>4</td>\n",
       "      <td>16</td>\n",
       "      <td>Y</td>\n",
       "    </tr>\n",
       "    <tr>\n",
       "      <th>45</th>\n",
       "      <td>346</td>\n",
       "      <td>22/09/2018</td>\n",
       "      <td>6</td>\n",
       "      <td>Ben MOORES</td>\n",
       "      <td>17:32</td>\n",
       "      <td>00:17:32</td>\n",
       "      <td>SM30-34</td>\n",
       "      <td>M</td>\n",
       "      <td>6</td>\n",
       "      <td>38</td>\n",
       "      <td>N</td>\n",
       "    </tr>\n",
       "    <tr>\n",
       "      <th>46</th>\n",
       "      <td>346</td>\n",
       "      <td>22/09/2018</td>\n",
       "      <td>7</td>\n",
       "      <td>Neil KIRKHAM</td>\n",
       "      <td>17:42</td>\n",
       "      <td>00:17:42</td>\n",
       "      <td>SM30-34</td>\n",
       "      <td>M</td>\n",
       "      <td>7</td>\n",
       "      <td>22</td>\n",
       "      <td>Y</td>\n",
       "    </tr>\n",
       "  </tbody>\n",
       "</table>\n",
       "</div>"
      ],
      "text/plain": [
       "   run_nr    run_date pos            parkrunner run_time_raw  run_time  age_cat gender gender_pos total_runs club_yn\n",
       "42    346  22/09/2018   1  Adam Alexander YOUNG        16:34  00:16:34  VM35-39      M          1        123       Y\n",
       "43    346  22/09/2018   2         Sam MACNAMARA        17:00  00:17:00  SM30-34      M          2         23       Y\n",
       "44    346  22/09/2018   4            Dave FINCH        17:07  00:17:07  VM45-49      M          4         16       Y\n",
       "45    346  22/09/2018   6            Ben MOORES        17:32  00:17:32  SM30-34      M          6         38       N\n",
       "46    346  22/09/2018   7          Neil KIRKHAM        17:42  00:17:42  SM30-34      M          7         22       Y"
      ]
     },
     "execution_count": 49,
     "metadata": {},
     "output_type": "execute_result"
    }
   ],
   "source": [
    "club_yn = np.where(df['club'].isna(),'N','Y')  #replaces long club name with a simpler yes no indicator of any club membership\n",
    "df['club_yn']=club_yn\n",
    "del df['club']\n",
    "df.head()"
   ]
  },
  {
   "cell_type": "markdown",
   "metadata": {},
   "source": [
    "#### Time formatting on run time, convert to minutes only"
   ]
  },
  {
   "cell_type": "markdown",
   "metadata": {},
   "source": [
    "The run_time is a string (object) - it needs to be converted to a workable time format, before it can then be rounded to the nearest minute as integer.  We will later use this as the x-axis value on our scatter plots."
   ]
  },
  {
   "cell_type": "code",
   "execution_count": 50,
   "metadata": {},
   "outputs": [
    {
     "name": "stdout",
     "output_type": "stream",
     "text": [
      "run_time__DTYPE WAS OBJECT:\n",
      " 42    00:16:34\n",
      "Name: run_time, dtype: object\n",
      "\n",
      "s__DTYPE IS NOW TIMEDELTA!:\n",
      " 42   00:16:34\n",
      "Name: run_time, dtype: timedelta64[ns]\n"
     ]
    }
   ],
   "source": [
    "print(\"run_time__DTYPE WAS OBJECT:\\n\",df['run_time'].head(1))\n",
    "\n",
    "s = pd.Series(pd.to_timedelta(df['run_time'], unit='s')) \n",
    "# this 'SERIES' is a really important step, otherwise it would not be possible to use eg. total_seconds function\n",
    "print(\"\\ns__DTYPE IS NOW TIMEDELTA!:\\n\",s.head(1))\n",
    "\n",
    "#Source: https://pandas.pydata.org/pandas-docs/stable/generated/pandas.Series.dt.total_seconds.html\n"
   ]
  },
  {
   "cell_type": "code",
   "execution_count": 51,
   "metadata": {},
   "outputs": [
    {
     "data": {
      "text/html": [
       "<div>\n",
       "<style scoped>\n",
       "    .dataframe tbody tr th:only-of-type {\n",
       "        vertical-align: middle;\n",
       "    }\n",
       "\n",
       "    .dataframe tbody tr th {\n",
       "        vertical-align: top;\n",
       "    }\n",
       "\n",
       "    .dataframe thead th {\n",
       "        text-align: right;\n",
       "    }\n",
       "</style>\n",
       "<table border=\"1\" class=\"dataframe\">\n",
       "  <thead>\n",
       "    <tr style=\"text-align: right;\">\n",
       "      <th></th>\n",
       "      <th>run_nr</th>\n",
       "      <th>run_date</th>\n",
       "      <th>pos</th>\n",
       "      <th>parkrunner</th>\n",
       "      <th>run_time_raw</th>\n",
       "      <th>run_time</th>\n",
       "      <th>age_cat</th>\n",
       "      <th>gender</th>\n",
       "      <th>gender_pos</th>\n",
       "      <th>total_runs</th>\n",
       "      <th>club_yn</th>\n",
       "      <th>run_time_min</th>\n",
       "    </tr>\n",
       "  </thead>\n",
       "  <tbody>\n",
       "    <tr>\n",
       "      <th>42</th>\n",
       "      <td>346</td>\n",
       "      <td>22/09/2018</td>\n",
       "      <td>1</td>\n",
       "      <td>Adam Alexander YOUNG</td>\n",
       "      <td>16:34</td>\n",
       "      <td>00:16:34</td>\n",
       "      <td>VM35-39</td>\n",
       "      <td>M</td>\n",
       "      <td>1</td>\n",
       "      <td>123</td>\n",
       "      <td>Y</td>\n",
       "      <td>17</td>\n",
       "    </tr>\n",
       "    <tr>\n",
       "      <th>43</th>\n",
       "      <td>346</td>\n",
       "      <td>22/09/2018</td>\n",
       "      <td>2</td>\n",
       "      <td>Sam MACNAMARA</td>\n",
       "      <td>17:00</td>\n",
       "      <td>00:17:00</td>\n",
       "      <td>SM30-34</td>\n",
       "      <td>M</td>\n",
       "      <td>2</td>\n",
       "      <td>23</td>\n",
       "      <td>Y</td>\n",
       "      <td>17</td>\n",
       "    </tr>\n",
       "    <tr>\n",
       "      <th>44</th>\n",
       "      <td>346</td>\n",
       "      <td>22/09/2018</td>\n",
       "      <td>4</td>\n",
       "      <td>Dave FINCH</td>\n",
       "      <td>17:07</td>\n",
       "      <td>00:17:07</td>\n",
       "      <td>VM45-49</td>\n",
       "      <td>M</td>\n",
       "      <td>4</td>\n",
       "      <td>16</td>\n",
       "      <td>Y</td>\n",
       "      <td>17</td>\n",
       "    </tr>\n",
       "    <tr>\n",
       "      <th>45</th>\n",
       "      <td>346</td>\n",
       "      <td>22/09/2018</td>\n",
       "      <td>6</td>\n",
       "      <td>Ben MOORES</td>\n",
       "      <td>17:32</td>\n",
       "      <td>00:17:32</td>\n",
       "      <td>SM30-34</td>\n",
       "      <td>M</td>\n",
       "      <td>6</td>\n",
       "      <td>38</td>\n",
       "      <td>N</td>\n",
       "      <td>18</td>\n",
       "    </tr>\n",
       "    <tr>\n",
       "      <th>46</th>\n",
       "      <td>346</td>\n",
       "      <td>22/09/2018</td>\n",
       "      <td>7</td>\n",
       "      <td>Neil KIRKHAM</td>\n",
       "      <td>17:42</td>\n",
       "      <td>00:17:42</td>\n",
       "      <td>SM30-34</td>\n",
       "      <td>M</td>\n",
       "      <td>7</td>\n",
       "      <td>22</td>\n",
       "      <td>Y</td>\n",
       "      <td>18</td>\n",
       "    </tr>\n",
       "  </tbody>\n",
       "</table>\n",
       "</div>"
      ],
      "text/plain": [
       "   run_nr    run_date pos            parkrunner run_time_raw  run_time  age_cat gender gender_pos total_runs club_yn  run_time_min\n",
       "42    346  22/09/2018   1  Adam Alexander YOUNG        16:34  00:16:34  VM35-39      M          1        123       Y            17\n",
       "43    346  22/09/2018   2         Sam MACNAMARA        17:00  00:17:00  SM30-34      M          2         23       Y            17\n",
       "44    346  22/09/2018   4            Dave FINCH        17:07  00:17:07  VM45-49      M          4         16       Y            17\n",
       "45    346  22/09/2018   6            Ben MOORES        17:32  00:17:32  SM30-34      M          6         38       N            18\n",
       "46    346  22/09/2018   7          Neil KIRKHAM        17:42  00:17:42  SM30-34      M          7         22       Y            18"
      ]
     },
     "execution_count": 51,
     "metadata": {},
     "output_type": "execute_result"
    }
   ],
   "source": [
    "df['run_time_min'] = round(s.dt.total_seconds()/60).astype(int)\n",
    "# calc total seconds, divide by 60 for minutes, then round and show as integer - in a new column\n",
    "df.head()"
   ]
  },
  {
   "cell_type": "markdown",
   "metadata": {},
   "source": [
    "#### Do some exploration of the dataset"
   ]
  },
  {
   "cell_type": "code",
   "execution_count": 52,
   "metadata": {},
   "outputs": [
    {
     "data": {
      "text/html": [
       "<div>\n",
       "<style scoped>\n",
       "    .dataframe tbody tr th:only-of-type {\n",
       "        vertical-align: middle;\n",
       "    }\n",
       "\n",
       "    .dataframe tbody tr th {\n",
       "        vertical-align: top;\n",
       "    }\n",
       "\n",
       "    .dataframe thead th {\n",
       "        text-align: right;\n",
       "    }\n",
       "</style>\n",
       "<table border=\"1\" class=\"dataframe\">\n",
       "  <thead>\n",
       "    <tr style=\"text-align: right;\">\n",
       "      <th></th>\n",
       "      <th>count</th>\n",
       "      <th>mean</th>\n",
       "      <th>std</th>\n",
       "      <th>min</th>\n",
       "      <th>25%</th>\n",
       "      <th>50%</th>\n",
       "      <th>75%</th>\n",
       "      <th>max</th>\n",
       "    </tr>\n",
       "    <tr>\n",
       "      <th>run_nr</th>\n",
       "      <th></th>\n",
       "      <th></th>\n",
       "      <th></th>\n",
       "      <th></th>\n",
       "      <th></th>\n",
       "      <th></th>\n",
       "      <th></th>\n",
       "      <th></th>\n",
       "    </tr>\n",
       "  </thead>\n",
       "  <tbody>\n",
       "    <tr>\n",
       "      <th>346</th>\n",
       "      <td>274.0</td>\n",
       "      <td>26.48</td>\n",
       "      <td>6.19</td>\n",
       "      <td>17.0</td>\n",
       "      <td>22.0</td>\n",
       "      <td>26.0</td>\n",
       "      <td>30.0</td>\n",
       "      <td>59.0</td>\n",
       "    </tr>\n",
       "    <tr>\n",
       "      <th>347</th>\n",
       "      <td>286.0</td>\n",
       "      <td>26.27</td>\n",
       "      <td>5.49</td>\n",
       "      <td>17.0</td>\n",
       "      <td>22.0</td>\n",
       "      <td>25.5</td>\n",
       "      <td>28.0</td>\n",
       "      <td>44.0</td>\n",
       "    </tr>\n",
       "  </tbody>\n",
       "</table>\n",
       "</div>"
      ],
      "text/plain": [
       "        count   mean   std   min   25%   50%   75%   max\n",
       "run_nr                                                  \n",
       "346     274.0  26.48  6.19  17.0  22.0  26.0  30.0  59.0\n",
       "347     286.0  26.27  5.49  17.0  22.0  25.5  28.0  44.0"
      ]
     },
     "execution_count": 52,
     "metadata": {},
     "output_type": "execute_result"
    }
   ],
   "source": [
    "#Standard descriptive statistics - I chose to highlight only one column of interest = the run_time_min.\n",
    "# I will compare across the two weeks\n",
    "df.groupby(['run_nr']).run_time_min.describe().round(2)"
   ]
  },
  {
   "cell_type": "markdown",
   "metadata": {},
   "source": [
    "#### Extract numerical age information from age category string"
   ]
  },
  {
   "cell_type": "markdown",
   "metadata": {},
   "source": [
    "I wish to use numerical age information for the y-axis of the scatterplots. Currently age_cat is displayed as a string with the age range at the end.  I need to extract the minumum and maximum age from each category, and derive one value (the mid) as the closest approximation I can get to the true age of each runner."
   ]
  },
  {
   "cell_type": "code",
   "execution_count": 53,
   "metadata": {},
   "outputs": [
    {
     "data": {
      "text/plain": [
       "array(['VM35-39', 'SM30-34', 'VM45-49', 'SM20-24', 'VM40-44', 'SM25-29',\n",
       "       'VW35-39', 'SW20-24', 'VM50-54', 'JW15-17', 'SW25-29', 'JM11-14',\n",
       "       'SW30-34', 'VM55-59', 'VW55-59', 'VW50-54', 'VW40-44', 'JW10',\n",
       "       'VM65-69', 'VW45-49', 'VW60-64', 'VM60-64', 'JW11-14', 'VW65-69',\n",
       "       'SM18-19', 'JM10', 'SW18-19'], dtype=object)"
      ]
     },
     "execution_count": 53,
     "metadata": {},
     "output_type": "execute_result"
    }
   ],
   "source": [
    "#start by listing out all the age_cat unique values\n",
    "df.age_cat.unique()"
   ]
  },
  {
   "cell_type": "code",
   "execution_count": 63,
   "metadata": {},
   "outputs": [],
   "source": [
    "# Two of the categories JM10 and JW10 are formatted differently.\n",
    "# I assume these are children up to 10 years, and re-format accordingly.\n",
    "df.loc[df['age_cat'].str.endswith('10'),'age_cat'] = \"JX01-10\"   # replace with JX01-10 to match the general str length/format"
   ]
  },
  {
   "cell_type": "code",
   "execution_count": 69,
   "metadata": {},
   "outputs": [
    {
     "name": "stdout",
     "output_type": "stream",
     "text": [
      "age_cat_min: \n",
      " 42    35\n",
      "43    30\n",
      "Name: age_cat, dtype: int32 \n",
      "\n",
      "age_cat_max: \n",
      " 42    39\n",
      "43    34\n",
      "Name: age_cat, dtype: int32\n"
     ]
    }
   ],
   "source": [
    "# using a slice function, to extract the numerical portions of the string - the min and max of the age range\n",
    "age_cat_min = df['age_cat'].str.slice(start=2, stop=4).astype(int)\n",
    "age_cat_max = df['age_cat'].str.slice(start=5, stop=7).astype(int)\n",
    "print(\"age_cat_min: \\n\",age_cat_min.head(2),\"\\n\")\n",
    "print(\"age_cat_max: \\n\",age_cat_max.head(2))"
   ]
  },
  {
   "cell_type": "code",
   "execution_count": 56,
   "metadata": {},
   "outputs": [
    {
     "data": {
      "text/html": [
       "<div>\n",
       "<style scoped>\n",
       "    .dataframe tbody tr th:only-of-type {\n",
       "        vertical-align: middle;\n",
       "    }\n",
       "\n",
       "    .dataframe tbody tr th {\n",
       "        vertical-align: top;\n",
       "    }\n",
       "\n",
       "    .dataframe thead th {\n",
       "        text-align: right;\n",
       "    }\n",
       "</style>\n",
       "<table border=\"1\" class=\"dataframe\">\n",
       "  <thead>\n",
       "    <tr style=\"text-align: right;\">\n",
       "      <th></th>\n",
       "      <th>run_nr</th>\n",
       "      <th>run_date</th>\n",
       "      <th>pos</th>\n",
       "      <th>parkrunner</th>\n",
       "      <th>run_time_raw</th>\n",
       "      <th>run_time</th>\n",
       "      <th>age_cat</th>\n",
       "      <th>gender</th>\n",
       "      <th>gender_pos</th>\n",
       "      <th>total_runs</th>\n",
       "      <th>club_yn</th>\n",
       "      <th>run_time_min</th>\n",
       "      <th>age_cat_mid</th>\n",
       "    </tr>\n",
       "  </thead>\n",
       "  <tbody>\n",
       "    <tr>\n",
       "      <th>42</th>\n",
       "      <td>346</td>\n",
       "      <td>22/09/2018</td>\n",
       "      <td>1</td>\n",
       "      <td>Adam Alexander YOUNG</td>\n",
       "      <td>16:34</td>\n",
       "      <td>00:16:34</td>\n",
       "      <td>VM35-39</td>\n",
       "      <td>M</td>\n",
       "      <td>1</td>\n",
       "      <td>123</td>\n",
       "      <td>Y</td>\n",
       "      <td>17</td>\n",
       "      <td>37</td>\n",
       "    </tr>\n",
       "    <tr>\n",
       "      <th>43</th>\n",
       "      <td>346</td>\n",
       "      <td>22/09/2018</td>\n",
       "      <td>2</td>\n",
       "      <td>Sam MACNAMARA</td>\n",
       "      <td>17:00</td>\n",
       "      <td>00:17:00</td>\n",
       "      <td>SM30-34</td>\n",
       "      <td>M</td>\n",
       "      <td>2</td>\n",
       "      <td>23</td>\n",
       "      <td>Y</td>\n",
       "      <td>17</td>\n",
       "      <td>32</td>\n",
       "    </tr>\n",
       "    <tr>\n",
       "      <th>44</th>\n",
       "      <td>346</td>\n",
       "      <td>22/09/2018</td>\n",
       "      <td>4</td>\n",
       "      <td>Dave FINCH</td>\n",
       "      <td>17:07</td>\n",
       "      <td>00:17:07</td>\n",
       "      <td>VM45-49</td>\n",
       "      <td>M</td>\n",
       "      <td>4</td>\n",
       "      <td>16</td>\n",
       "      <td>Y</td>\n",
       "      <td>17</td>\n",
       "      <td>47</td>\n",
       "    </tr>\n",
       "  </tbody>\n",
       "</table>\n",
       "</div>"
      ],
      "text/plain": [
       "   run_nr    run_date pos            parkrunner run_time_raw  run_time  age_cat gender gender_pos total_runs club_yn  run_time_min  age_cat_mid\n",
       "42    346  22/09/2018   1  Adam Alexander YOUNG        16:34  00:16:34  VM35-39      M          1        123       Y            17           37\n",
       "43    346  22/09/2018   2         Sam MACNAMARA        17:00  00:17:00  SM30-34      M          2         23       Y            17           32\n",
       "44    346  22/09/2018   4            Dave FINCH        17:07  00:17:07  VM45-49      M          4         16       Y            17           47"
      ]
     },
     "execution_count": 56,
     "metadata": {},
     "output_type": "execute_result"
    }
   ],
   "source": [
    "# Here we get the average of the min and max ages within the category, and add it as a new column\n",
    "df['age_cat_mid'] = ((age_cat_min + age_cat_max)/2).astype(int)\n",
    "df.head(3)"
   ]
  },
  {
   "cell_type": "markdown",
   "metadata": {},
   "source": [
    "#### Creating the visualisations_ Run nr 346 vs 347"
   ]
  },
  {
   "cell_type": "code",
   "execution_count": 57,
   "metadata": {},
   "outputs": [
    {
     "data": {
      "image/png": "[encoded data removed]",
      "text/plain": [
       "<Figure size 432x288 with 1 Axes>"
      ]
     },
     "metadata": {},
     "output_type": "display_data"
    }
   ],
   "source": [
    "# I wanted to try out Seaborn, and improve on my last by plotting two boxplots side by side using the same axis & scale\n",
    "sns.set(style=\"whitegrid\")\n",
    "ax = sns.boxplot(x=\"run_nr\", y=\"run_time_min\", data=df, showfliers=False)"
   ]
  },
  {
   "cell_type": "code",
   "execution_count": 58,
   "metadata": {},
   "outputs": [
    {
     "data": {
      "text/plain": [
       "(0, 75)"
      ]
     },
     "execution_count": 58,
     "metadata": {},
     "output_type": "execute_result"
    },
    {
     "data": {
      "image/png": "[encoded data removed]",
      "text/plain": [
       "<Figure size 432x216 with 2 Axes>"
      ]
     },
     "metadata": {},
     "output_type": "display_data"
    }
   ],
   "source": [
    "# Using seaborn to display regplots side by side\n",
    "g = sns.FacetGrid(df, col=\"run_nr\") \n",
    "g.map(sns.regplot, \"run_time_min\", \"age_cat_mid\") \n",
    "plt.xlim(10, 60) \n",
    "plt.ylim(0, 75)\n",
    "\n",
    "#Source https://blog.insightdatascience.com/data-visualization-in-python-advanced-functionality-in-seaborn-20d217f1a9a6"
   ]
  },
  {
   "cell_type": "code",
   "execution_count": 59,
   "metadata": {},
   "outputs": [],
   "source": [
    "# Creating a sub dataframe per run number \n",
    "sdf347 = df.loc[df['run_nr'] == '347']\n",
    "sdf346 = df.loc[df['run_nr'] == '346']"
   ]
  },
  {
   "cell_type": "code",
   "execution_count": 60,
   "metadata": {},
   "outputs": [
    {
     "data": {
      "image/png": "[encoded data removed]",
      "text/plain": [
       "<Figure size 432x288 with 1 Axes>"
      ]
     },
     "metadata": {},
     "output_type": "display_data"
    }
   ],
   "source": [
    "# A larger visualisation just for run number 347\n",
    "ax = sns.regplot(x=\"run_time_min\", y=\"age_cat_mid\", data=sdf347, color='g')\n",
    "ax.title.set_text('RUN 347_29th September')"
   ]
  },
  {
   "cell_type": "code",
   "execution_count": 61,
   "metadata": {},
   "outputs": [
    {
     "data": {
      "image/png": "[encoded data removed]",
      "text/plain": [
       "<Figure size 432x288 with 1 Axes>"
      ]
     },
     "metadata": {},
     "output_type": "display_data"
    }
   ],
   "source": [
    "# A larger visualisation just for run number 346\n",
    "ax = sns.regplot(x=\"run_time_min\", y=\"age_cat_mid\", data=sdf346, color='b')\n",
    "ax.title.set_text('RUN 346_22nd September')"
   ]
  },
  {
   "cell_type": "code",
   "execution_count": 62,
   "metadata": {},
   "outputs": [
    {
     "name": "stdout",
     "output_type": "stream",
     "text": [
      "STATS FOR 347\n",
      "r-squared: 0.026\n",
      "intercept: 26.929\n",
      "slope: 0.3\n",
      "\n",
      "STATS FOR 346\n",
      "r-squared: 0.034\n",
      "intercept: 26.846\n",
      "slope: 0.33\n"
     ]
    }
   ],
   "source": [
    "# I wanted to see the equation of the best fit line, and r-squared \n",
    "# my online searches indicated that it's not possible in Seaborn, so I used scipy instead\n",
    "\n",
    "from scipy import stats\n",
    "x347 = sdf347['run_time_min']\n",
    "y347= sdf347['age_cat_mid']\n",
    "x346 = sdf346['run_time_min']\n",
    "y346= sdf346['age_cat_mid']\n",
    "\n",
    "\n",
    "slope, intercept, r_value, p_value, std_err = stats.linregress(x347,y347)\n",
    "print (\"STATS FOR 347\")\n",
    "print (\"r-squared:\", (r_value**2).round(3))\n",
    "print (\"intercept:\", intercept.round(3))\n",
    "print (\"slope:\",slope.round(3))\n",
    "\n",
    "slope, intercept, r_value, p_value, std_err = stats.linregress(x346,y346)\n",
    "print (\"\\nSTATS FOR 346\")\n",
    "print (\"r-squared:\", (r_value**2).round(3))\n",
    "print (\"intercept:\", intercept.round(3))\n",
    "print (\"slope:\",slope.round(3))\n",
    "\n",
    "# note: equation of line is  Y = intercept + slope X"
   ]
  },
  {
   "cell_type": "markdown",
   "metadata": {},
   "source": [
    "## Conclusions from the Analysis\n",
    "My main learning is that my result from my first parkrun was within the upper quartile - aka among the slower runners.  It can motivate me to strive towards the median at least!\n",
    "Looking at the numbers across the two weeks, the core statistics looked quite similar, eg. not much difference in the median from week to week- however it was impacted a bit by some outliers in nr 346, particularly 3 'stragglers' of nearly 60 minutes, which stretched out the upper limits, and gave a higher std deviation.\n",
    "Looking at my attempt at analysing as a regression, the relationship between age and running speed - there doesn't appear to be a strong link.  The slope indication is around 0.3, and the r-squared (which should indicate how well the regression 'fits' the data) is also quite low - as can also be perceived by looking at the pattern of dots which are scattered far from the line.\n"
   ]
  },
  {
   "cell_type": "markdown",
   "metadata": {},
   "source": [
    "### Learnings from the project"
   ]
  },
  {
   "cell_type": "markdown",
   "metadata": {},
   "source": [
    "This was more challenging than I expected, which resulted in some good experience in circumventing data issues and technical challenges.\n",
    "I looked at exporting data directly from web tables to csv, and gained experience in using PostgreSQL (I have previously only worked with Microsoft SQL Server). \n",
    "The issue relating to the time formatting was quite difficult, and I would need to be aware of the pitfalls of date & time related data, and try to have that formatted as cleanly at source as possible to avoid time-consuming data wrangling in Python.\n",
    "I definitely gained experience in manipulating strings and converting data to the format I need.\n",
    "And I feel I have progressed in my knowledge of plotting/visualisation by expanding my efforts to Seaborn - my impression is that I have just scratched the surface with plotting and there's a ton of possibilities to learn!"
   ]
  }
 ],
 "metadata": {
  "kernelspec": {
   "display_name": "Python 3",
   "language": "python",
   "name": "python3"
  },
  "language_info": {
   "codemirror_mode": {
    "name": "ipython",
    "version": 3
   },
   "file_extension": ".py",
   "mimetype": "text/x-python",
   "name": "python",
   "nbconvert_exporter": "python",
   "pygments_lexer": "ipython3",
   "version": "3.6.5"
  }
 },
 "nbformat": 4,
 "nbformat_minor": 2
}
